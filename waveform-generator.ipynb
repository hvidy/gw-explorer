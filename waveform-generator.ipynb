{
 "cells": [
  {
   "cell_type": "code",
   "execution_count": 1,
   "id": "directed-conducting",
   "metadata": {},
   "outputs": [],
   "source": [
    "import riroriro.inspiralfuns as ins\n",
    "import riroriro.mergerfirstfuns as me1\n",
    "import riroriro.matchingfuns as mat\n",
    "import riroriro.mergersecondfuns as me2\n",
    "\n",
    "import numpy as np\n",
    "import pandas as pd"
   ]
  },
  {
   "cell_type": "code",
   "execution_count": 2,
   "id": "mexican-lodge",
   "metadata": {},
   "outputs": [],
   "source": [
    "masses = np.arange(6,49,2)"
   ]
  },
  {
   "cell_type": "code",
   "execution_count": 10,
   "id": "joint-extreme",
   "metadata": {},
   "outputs": [],
   "source": [
    "masses = np.arange(6,49,2)\n",
    "qs = np.arange(0.1,1.1,0.1)\n",
    "\n",
    "#defaults\n",
    "flow=30.0           #(Hz)\n",
    "merger_type='BH'\n",
    "D=100.0             #(Mpc)"
   ]
  },
  {
   "cell_type": "code",
   "execution_count": 11,
   "id": "personal-slave",
   "metadata": {},
   "outputs": [],
   "source": [
    "for mass in masses:\n",
    "    for q in qs:\n",
    "        \n",
    "        logMc = float(np.log10(mass))\n",
    "        q = float(q)\n",
    "        \n",
    "        M, eta = ins.get_M_and_eta(logMc=logMc,q=q)\n",
    "        start_x = ins.startx(M,flow)\n",
    "        end_x = ins.endx(eta,merger_type)\n",
    "        \n",
    "        #Inspiral        \n",
    "        x, xtimes, dt = ins.PN_parameter_integration(start_x,end_x,M,eta)\n",
    "        realtimes = ins.inspiral_time_conversion(xtimes,M)\n",
    "        i_phase, omega, freq = ins.inspiral_phase_freq_integration(x,dt,M)\n",
    "        r, rdot = ins.radius_calculation(x,M,eta)\n",
    "        A1, A2 = ins.a1_a2_calculation(r,rdot,omega,D,M,eta)\n",
    "        \n",
    "        i_Aorth, i_Adiag = ins.inspiral_strain_polarisations(A1,A2,i_phase)\n",
    "        i_amp = ins.inspiral_strain_amplitude(i_Aorth,i_Adiag)\n",
    "        \n",
    "        i_time = ins.list_size_reducer(100,realtimes)\n",
    "        i_omega = ins.list_size_reducer(100,omega)\n",
    "        i_phase = ins.list_size_reducer(100,i_phase)\n",
    "        i_amp = ins.list_size_reducer(100,i_amp)\n",
    "        i_Aorth = ins.list_size_reducer(100,i_Aorth)\n",
    "        i_Adiag = ins.list_size_reducer(100,i_Adiag)\n",
    "        \n",
    "        #Merger - part 1\n",
    "        sfin, wqnm = me1.quasi_normal_modes(eta)\n",
    "        alpha, b, C, kappa = me1.gIRS_coefficients(eta,sfin)\n",
    "        \n",
    "        fhat, m_omega = me1.merger_freq_calculation(wqnm,b,C,kappa)\n",
    "        fhatdot = me1.fhat_differentiation(fhat)\n",
    "        m_time = me1.merger_time_conversion(M)\n",
    "        \n",
    "        #Matching\n",
    "        min_switch_ind = mat.min_switch_ind_finder(i_time,i_omega,m_time,m_omega)\n",
    "        final_i_index = mat.final_i_index_finder(min_switch_ind,i_omega,m_omega)\n",
    "        time_offset = mat.time_offset_finder(min_switch_ind,final_i_index,i_time,m_time)\n",
    "        \n",
    "        i_m_time, i_m_omega = mat.time_frequency_stitching(min_switch_ind,final_i_index,time_offset,i_time,i_omega,m_time,m_omega)\n",
    "        i_m_freq = mat.frequency_SI_units(i_m_omega,M)\n",
    "        \n",
    "        #Merger - part 2\n",
    "        m_phase = me2.merger_phase_calculation(min_switch_ind,final_i_index,i_phase,m_omega)\n",
    "        i_m_phase = me2.phase_stitching(final_i_index,i_phase,m_phase)\n",
    "        \n",
    "        m_amp = me2.merger_strain_amplitude(min_switch_ind,final_i_index,alpha,i_amp,m_omega,fhat,fhatdot)\n",
    "        i_m_amp = me2.amplitude_stitching(final_i_index,i_amp,m_amp)\n",
    "        \n",
    "        m_Aorth, m_Adiag = me2.merger_polarisations(final_i_index,m_amp,m_phase,i_Aorth)\n",
    "        i_m_Aorth, i_m_Adiag = me2.polarisation_stitching(final_i_index,i_Aorth,i_Adiag,m_Aorth,m_Adiag)\n",
    "        \n",
    "        #Make merger be at time = 0\n",
    "        shift_time  = i_m_time - i_m_time[np.argmax(np.asarray(i_m_amp))]\n",
    "        \n",
    "        #Save data\n",
    "        df = pd.DataFrame(list(zip(shift_time,i_m_Aorth,i_m_Adiag,i_m_amp,i_m_freq)),columns=['time','Aorth','Adiag','Amp','Freq'])\n",
    "        outname = 'models/waveform-M{:d}q{:3.2f}.h5'.format(mass,q)\n",
    "        df.to_hdf(outname, key='df', mode='w')"
   ]
  },
  {
   "cell_type": "code",
   "execution_count": null,
   "id": "later-national",
   "metadata": {},
   "outputs": [],
   "source": []
  }
 ],
 "metadata": {
  "kernelspec": {
   "display_name": "Python 3",
   "language": "python",
   "name": "python3"
  },
  "language_info": {
   "codemirror_mode": {
    "name": "ipython",
    "version": 3
   },
   "file_extension": ".py",
   "mimetype": "text/x-python",
   "name": "python",
   "nbconvert_exporter": "python",
   "pygments_lexer": "ipython3",
   "version": "3.6.13"
  }
 },
 "nbformat": 4,
 "nbformat_minor": 5
}
